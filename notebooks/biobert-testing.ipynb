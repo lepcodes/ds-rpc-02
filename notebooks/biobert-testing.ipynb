{
 "cells": [
  {
   "cell_type": "markdown",
   "id": "c6681646",
   "metadata": {},
   "source": [
    "# BioBERT Testing"
   ]
  },
  {
   "cell_type": "code",
   "execution_count": null,
   "id": "new-code-cell",
   "metadata": {},
   "outputs": [],
   "source": [
    "print(\"Hello World\")"
   ]
  }
 ],
 "metadata": {
  "language_info": {
   "name": "python"
  }
 },
 "nbformat": 4,
 "nbformat_minor": 5
}
